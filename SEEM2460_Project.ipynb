{
 "cells": [
  {
   "cell_type": "markdown",
   "metadata": {},
   "source": [
    "SEEM2460 – Introduction to Data Science\n",
    "\n",
    "Lee Tsz Kin (SC/CSCI/2) (1155112410)\n",
    "\n",
    "Prof. Helen Meng\n",
    "\n",
    "Project Report\n"
   ]
  },
  {
   "cell_type": "markdown",
   "metadata": {},
   "source": [
    "# Objective\n",
    "Construct models to predict Hong Kong’s daily confirmed case next day and after using data from this day or older.\n",
    "\n",
    "# Introduction\n",
    "The Wuhan Coronavirus illness (SARS-Cov-2) becomes as a global threat. The aim of this study is first to find the best prediction models for daily confirmed cases and second to predict confirmed cases with these models in order to have more readiness in healthcare systems.\n",
    "\n",
    "Through predicting the Daily Confirmed Case, we may find out some factors driving the daily case growth (and spotting difference between different countries).\n",
    "\n",
    "# Methods\n",
    "This study will be conducted based on daily confirmed cases of Wuhan Coronavirus illness which are collected from Johns Hopkins University from Jan 22<sup>nd</sup> 2020, daily city mobility which are collected from Citymapper from Jan 22<sup>nd</sup> 2020 (and other related data collected from other sources). And predict using regression models including but not limited to Ordinary Least Square (OLS), Ridge and Least Absolute Shrinkage and Selection Operator (Lasso) , time series model including but not limited to Autoregressive Integrated Moving Average (ARIMA) and other possible methods.\n",
    "\n",
    "# Data\n",
    "The project used the following data:\n",
    "\n",
    "1. Novel Coronavirus (COVID-19) Cases, provided by JHU CSSE <https://github.com/CSSEGISandData/COVID-19>\n",
    "\n",
    "2. Citymapper Mobility Index, provided by Citymapper <https://citymapper.com/cmi>\n",
    "\n",
    "## Preparing the Data"
   ]
  },
  {
   "cell_type": "code",
   "execution_count": 25,
   "metadata": {},
   "outputs": [],
   "source": [
    "import numpy as np\n",
    "import pandas as pd\n",
    "import statsmodels.api as sm\n",
    "import sklearn.linear_model as OLS\n",
    "import matplotlib.pyplot as plt\n",
    "import warnings\n",
    "warnings.filterwarnings('ignore')"
   ]
  },
  {
   "cell_type": "markdown",
   "metadata": {},
   "source": [
    "### Citymapper Mobility Index"
   ]
  },
  {
   "cell_type": "code",
   "execution_count": 26,
   "metadata": {},
   "outputs": [],
   "source": [
    "cmi = pd.read_csv('./Citymapper_Mobility_Index_20200522.csv',skiprows=3,index_col=0)"
   ]
  },
  {
   "cell_type": "code",
   "execution_count": 27,
   "metadata": {},
   "outputs": [],
   "source": [
    "cmi_hk = cmi[[\"Hong Kong\"]]\n",
    "cmi_hk.columns = [\"City Mobility\"]\n",
    "cmi_hk.index=(pd.date_range(start=pd.datetime(2020, 1, 20), periods=123, freq='D'))"
   ]
  },
  {
   "cell_type": "code",
   "execution_count": 28,
   "metadata": {},
   "outputs": [
    {
     "data": {
      "text/html": [
       "<div>\n",
       "<style scoped>\n",
       "    .dataframe tbody tr th:only-of-type {\n",
       "        vertical-align: middle;\n",
       "    }\n",
       "\n",
       "    .dataframe tbody tr th {\n",
       "        vertical-align: top;\n",
       "    }\n",
       "\n",
       "    .dataframe thead th {\n",
       "        text-align: right;\n",
       "    }\n",
       "</style>\n",
       "<table border=\"1\" class=\"dataframe\">\n",
       "  <thead>\n",
       "    <tr style=\"text-align: right;\">\n",
       "      <th></th>\n",
       "      <th>City Mobility</th>\n",
       "    </tr>\n",
       "  </thead>\n",
       "  <tbody>\n",
       "    <tr>\n",
       "      <th>2020-01-20</th>\n",
       "      <td>1.07</td>\n",
       "    </tr>\n",
       "    <tr>\n",
       "      <th>2020-01-21</th>\n",
       "      <td>1.04</td>\n",
       "    </tr>\n",
       "    <tr>\n",
       "      <th>2020-01-22</th>\n",
       "      <td>1.03</td>\n",
       "    </tr>\n",
       "    <tr>\n",
       "      <th>2020-01-23</th>\n",
       "      <td>0.93</td>\n",
       "    </tr>\n",
       "    <tr>\n",
       "      <th>2020-01-24</th>\n",
       "      <td>0.73</td>\n",
       "    </tr>\n",
       "    <tr>\n",
       "      <th>...</th>\n",
       "      <td>...</td>\n",
       "    </tr>\n",
       "    <tr>\n",
       "      <th>2020-05-17</th>\n",
       "      <td>0.53</td>\n",
       "    </tr>\n",
       "    <tr>\n",
       "      <th>2020-05-18</th>\n",
       "      <td>0.49</td>\n",
       "    </tr>\n",
       "    <tr>\n",
       "      <th>2020-05-19</th>\n",
       "      <td>0.54</td>\n",
       "    </tr>\n",
       "    <tr>\n",
       "      <th>2020-05-20</th>\n",
       "      <td>0.54</td>\n",
       "    </tr>\n",
       "    <tr>\n",
       "      <th>2020-05-21</th>\n",
       "      <td>0.52</td>\n",
       "    </tr>\n",
       "  </tbody>\n",
       "</table>\n",
       "<p>123 rows × 1 columns</p>\n",
       "</div>"
      ],
      "text/plain": [
       "            City Mobility\n",
       "2020-01-20           1.07\n",
       "2020-01-21           1.04\n",
       "2020-01-22           1.03\n",
       "2020-01-23           0.93\n",
       "2020-01-24           0.73\n",
       "...                   ...\n",
       "2020-05-17           0.53\n",
       "2020-05-18           0.49\n",
       "2020-05-19           0.54\n",
       "2020-05-20           0.54\n",
       "2020-05-21           0.52\n",
       "\n",
       "[123 rows x 1 columns]"
      ]
     },
     "execution_count": 28,
     "metadata": {},
     "output_type": "execute_result"
    }
   ],
   "source": [
    "cmi_hk"
   ]
  },
  {
   "cell_type": "markdown",
   "metadata": {},
   "source": [
    "### COVID-19 time_series data"
   ]
  },
  {
   "cell_type": "code",
   "execution_count": 29,
   "metadata": {},
   "outputs": [],
   "source": [
    "covid = pd.read_csv('./COVID-19/csse_covid_19_data/csse_covid_19_time_series/time_series_covid19_confirmed_global.csv',skiprows=3,header=None,index_col=[0,1]).transpose()"
   ]
  },
  {
   "cell_type": "code",
   "execution_count": 30,
   "metadata": {},
   "outputs": [],
   "source": [
    "covid_hk = covid[[(\"Hong Kong\",\"China\")]][2:]\n",
    "covid_hk.columns = [\"Confirmed Case\"]\n",
    "covid_hk.index=(pd.date_range(start=pd.datetime(2020, 1, 22), periods=121, freq='D'))"
   ]
  },
  {
   "cell_type": "code",
   "execution_count": 31,
   "metadata": {},
   "outputs": [
    {
     "data": {
      "text/html": [
       "<div>\n",
       "<style scoped>\n",
       "    .dataframe tbody tr th:only-of-type {\n",
       "        vertical-align: middle;\n",
       "    }\n",
       "\n",
       "    .dataframe tbody tr th {\n",
       "        vertical-align: top;\n",
       "    }\n",
       "\n",
       "    .dataframe thead th {\n",
       "        text-align: right;\n",
       "    }\n",
       "</style>\n",
       "<table border=\"1\" class=\"dataframe\">\n",
       "  <thead>\n",
       "    <tr style=\"text-align: right;\">\n",
       "      <th></th>\n",
       "      <th>Confirmed Case</th>\n",
       "    </tr>\n",
       "  </thead>\n",
       "  <tbody>\n",
       "    <tr>\n",
       "      <th>2020-01-22</th>\n",
       "      <td>0.0</td>\n",
       "    </tr>\n",
       "    <tr>\n",
       "      <th>2020-01-23</th>\n",
       "      <td>2.0</td>\n",
       "    </tr>\n",
       "    <tr>\n",
       "      <th>2020-01-24</th>\n",
       "      <td>2.0</td>\n",
       "    </tr>\n",
       "    <tr>\n",
       "      <th>2020-01-25</th>\n",
       "      <td>5.0</td>\n",
       "    </tr>\n",
       "    <tr>\n",
       "      <th>2020-01-26</th>\n",
       "      <td>8.0</td>\n",
       "    </tr>\n",
       "    <tr>\n",
       "      <th>...</th>\n",
       "      <td>...</td>\n",
       "    </tr>\n",
       "    <tr>\n",
       "      <th>2020-05-17</th>\n",
       "      <td>1055.0</td>\n",
       "    </tr>\n",
       "    <tr>\n",
       "      <th>2020-05-18</th>\n",
       "      <td>1055.0</td>\n",
       "    </tr>\n",
       "    <tr>\n",
       "      <th>2020-05-19</th>\n",
       "      <td>1055.0</td>\n",
       "    </tr>\n",
       "    <tr>\n",
       "      <th>2020-05-20</th>\n",
       "      <td>1055.0</td>\n",
       "    </tr>\n",
       "    <tr>\n",
       "      <th>2020-05-21</th>\n",
       "      <td>1055.0</td>\n",
       "    </tr>\n",
       "  </tbody>\n",
       "</table>\n",
       "<p>121 rows × 1 columns</p>\n",
       "</div>"
      ],
      "text/plain": [
       "            Confirmed Case\n",
       "2020-01-22             0.0\n",
       "2020-01-23             2.0\n",
       "2020-01-24             2.0\n",
       "2020-01-25             5.0\n",
       "2020-01-26             8.0\n",
       "...                    ...\n",
       "2020-05-17          1055.0\n",
       "2020-05-18          1055.0\n",
       "2020-05-19          1055.0\n",
       "2020-05-20          1055.0\n",
       "2020-05-21          1055.0\n",
       "\n",
       "[121 rows x 1 columns]"
      ]
     },
     "execution_count": 31,
     "metadata": {},
     "output_type": "execute_result"
    }
   ],
   "source": [
    "covid_hk"
   ]
  },
  {
   "cell_type": "code",
   "execution_count": 32,
   "metadata": {},
   "outputs": [
    {
     "data": {
      "image/png": "[encoded data removed]",
      "text/plain": [
       "<Figure size 432x288 with 2 Axes>"
      ]
     },
     "metadata": {
      "needs_background": "light"
     },
     "output_type": "display_data"
    }
   ],
   "source": [
    "fig, ax1 = plt.subplots()\n",
    "color = 'tab:red'\n",
    "ax1.set_xlabel('date')\n",
    "ax1.set_ylabel('city mobility', color=color)\n",
    "ax1.plot(cmi_hk[\"2020-01-22\":], color=color)\n",
    "ax1.tick_params(axis='y', labelcolor=color)\n",
    "ax1.set_xticklabels(cmi_hk[\"2020-01-22\":].index, rotation=45)\n",
    "\n",
    "ax2 = ax1.twinx()\n",
    "\n",
    "color = 'tab:blue'\n",
    "ax2.set_ylabel('confirmed case', color=color)\n",
    "ax2.plot(covid_hk, color=color)\n",
    "ax2.tick_params(axis='y', labelcolor=color)\n",
    "ax1.grid(True)\n",
    "\n",
    "plt.savefig('cmi_confirmed_case.png', bbox_inches = 'tight')\n",
    "plt.show()"
   ]
  },
  {
   "cell_type": "markdown",
   "metadata": {},
   "source": [
    "From this graph, we can identify that there may have some relationship betwwen the city mobility and confirmed cases.\n",
    "The case number growth rapidly while the mobility drops."
   ]
  },
  {
   "cell_type": "markdown",
   "metadata": {},
   "source": [
    "### Coverting to daily difference"
   ]
  },
  {
   "cell_type": "code",
   "execution_count": 33,
   "metadata": {},
   "outputs": [
    {
     "data": {
      "text/html": [
       "<div>\n",
       "<style scoped>\n",
       "    .dataframe tbody tr th:only-of-type {\n",
       "        vertical-align: middle;\n",
       "    }\n",
       "\n",
       "    .dataframe tbody tr th {\n",
       "        vertical-align: top;\n",
       "    }\n",
       "\n",
       "    .dataframe thead th {\n",
       "        text-align: right;\n",
       "    }\n",
       "</style>\n",
       "<table border=\"1\" class=\"dataframe\">\n",
       "  <thead>\n",
       "    <tr style=\"text-align: right;\">\n",
       "      <th></th>\n",
       "      <th>Confirmed Case</th>\n",
       "    </tr>\n",
       "  </thead>\n",
       "  <tbody>\n",
       "    <tr>\n",
       "      <th>2020-01-22</th>\n",
       "      <td>NaN</td>\n",
       "    </tr>\n",
       "    <tr>\n",
       "      <th>2020-01-23</th>\n",
       "      <td>2.0</td>\n",
       "    </tr>\n",
       "    <tr>\n",
       "      <th>2020-01-24</th>\n",
       "      <td>0.0</td>\n",
       "    </tr>\n",
       "    <tr>\n",
       "      <th>2020-01-25</th>\n",
       "      <td>3.0</td>\n",
       "    </tr>\n",
       "    <tr>\n",
       "      <th>2020-01-26</th>\n",
       "      <td>3.0</td>\n",
       "    </tr>\n",
       "    <tr>\n",
       "      <th>...</th>\n",
       "      <td>...</td>\n",
       "    </tr>\n",
       "    <tr>\n",
       "      <th>2020-05-17</th>\n",
       "      <td>3.0</td>\n",
       "    </tr>\n",
       "    <tr>\n",
       "      <th>2020-05-18</th>\n",
       "      <td>0.0</td>\n",
       "    </tr>\n",
       "    <tr>\n",
       "      <th>2020-05-19</th>\n",
       "      <td>0.0</td>\n",
       "    </tr>\n",
       "    <tr>\n",
       "      <th>2020-05-20</th>\n",
       "      <td>0.0</td>\n",
       "    </tr>\n",
       "    <tr>\n",
       "      <th>2020-05-21</th>\n",
       "      <td>0.0</td>\n",
       "    </tr>\n",
       "  </tbody>\n",
       "</table>\n",
       "<p>121 rows × 1 columns</p>\n",
       "</div>"
      ],
      "text/plain": [
       "            Confirmed Case\n",
       "2020-01-22             NaN\n",
       "2020-01-23             2.0\n",
       "2020-01-24             0.0\n",
       "2020-01-25             3.0\n",
       "2020-01-26             3.0\n",
       "...                    ...\n",
       "2020-05-17             3.0\n",
       "2020-05-18             0.0\n",
       "2020-05-19             0.0\n",
       "2020-05-20             0.0\n",
       "2020-05-21             0.0\n",
       "\n",
       "[121 rows x 1 columns]"
      ]
     },
     "execution_count": 33,
     "metadata": {},
     "output_type": "execute_result"
    }
   ],
   "source": [
    "covid_hk.diff()"
   ]
  },
  {
   "cell_type": "code",
   "execution_count": 34,
   "metadata": {},
   "outputs": [
    {
     "data": {
      "image/png": "[encoded data removed]",
      "text/plain": [
       "<Figure size 432x288 with 2 Axes>"
      ]
     },
     "metadata": {
      "needs_background": "light"
     },
     "output_type": "display_data"
    }
   ],
   "source": [
    "fig, ax1 = plt.subplots()\n",
    "color = 'tab:red'\n",
    "ax1.set_xlabel('date')\n",
    "ax1.set_ylabel('city mobility', color=color)\n",
    "ax1.plot(cmi_hk[\"2020-01-22\":], color=color)\n",
    "ax1.tick_params(axis='y', labelcolor=color)\n",
    "ax1.set_xticklabels(cmi_hk[\"2020-01-22\":].index, rotation=45)\n",
    "\n",
    "ax2 = ax1.twinx()\n",
    "\n",
    "color = 'tab:blue'\n",
    "ax2.set_ylabel('daily confirmed case', color=color)\n",
    "ax2.plot(covid_hk.diff(), color=color)\n",
    "ax2.tick_params(axis='y', labelcolor=color)\n",
    "ax1.grid(True)\n",
    "plt.savefig('cmi_daily_confirmed_case.png', bbox_inches = 'tight')\n",
    "plt.show()"
   ]
  },
  {
   "cell_type": "markdown",
   "metadata": {},
   "source": [
    "When we put city mobility and daily confirmed case together, we can see that, when the daily confirmed case increase, the city mobility drops.\n",
    "\n",
    "However, we actually cannot get any full conclusion from the data, as we cannot observe many relationship with the incubation period.\n",
    "\n",
    "If there is relationship with the daily confirmed case and the incubation period, we should see changes in city mobility before the daily confirmed case growth.\n",
    "\n",
    "However, when the city mobilty drops, ther daily confirmed case drops thereafter. So the city mobility may be one of the factor affecting the number of the confirmed case. \n",
    "\n",
    "There may be other factor affecting the case number, like daily arrival in different port/from different country etc.\n",
    "\n",
    "However, we will still put in to predicting the confirmed cases with the city mobility, to see if there is actually any relatioship betwwen the two data."
   ]
  },
  {
   "cell_type": "markdown",
   "metadata": {},
   "source": [
    "# Prediction using Regression models\n",
    "## Prediction using OLS"
   ]
  },
  {
   "cell_type": "markdown",
   "metadata": {},
   "source": [
    "### What is OLS?\n",
    "\n",
    "**O**rdinary **L**east **S**quare\n",
    "\n",
    "- A type of linear least squares method for estimating the unknown parameters in a linear regression model.\n",
    "\n",
    "- Used in fields as diverse as economics (econometrics), data science, political science, psychology and engineering (control theory and signal processing)\n",
    " "
   ]
  },
  {
   "cell_type": "markdown",
   "metadata": {},
   "source": [
    "### Fitting the data"
   ]
  },
  {
   "cell_type": "code",
   "execution_count": 35,
   "metadata": {},
   "outputs": [
    {
     "data": {
      "text/html": [
       "<table class=\"simpletable\">\n",
       "<caption>OLS Regression Results</caption>\n",
       "<tr>\n",
       "  <th>Dep. Variable:</th>            <td>y</td>        <th>  R-squared:         </th> <td>   0.352</td>\n",
       "</tr>\n",
       "<tr>\n",
       "  <th>Model:</th>                   <td>OLS</td>       <th>  Adj. R-squared:    </th> <td>   0.347</td>\n",
       "</tr>\n",
       "<tr>\n",
       "  <th>Method:</th>             <td>Least Squares</td>  <th>  F-statistic:       </th> <td>   64.20</td>\n",
       "</tr>\n",
       "<tr>\n",
       "  <th>Date:</th>             <td>Sun, 24 May 2020</td> <th>  Prob (F-statistic):</th> <td>9.00e-13</td>\n",
       "</tr>\n",
       "<tr>\n",
       "  <th>Time:</th>                 <td>11:25:28</td>     <th>  Log-Likelihood:    </th> <td> -468.15</td>\n",
       "</tr>\n",
       "<tr>\n",
       "  <th>No. Observations:</th>      <td>   120</td>      <th>  AIC:               </th> <td>   940.3</td>\n",
       "</tr>\n",
       "<tr>\n",
       "  <th>Df Residuals:</th>          <td>   118</td>      <th>  BIC:               </th> <td>   945.9</td>\n",
       "</tr>\n",
       "<tr>\n",
       "  <th>Df Model:</th>              <td>     1</td>      <th>                     </th>     <td> </td>   \n",
       "</tr>\n",
       "<tr>\n",
       "  <th>Covariance Type:</th>      <td>nonrobust</td>    <th>                     </th>     <td> </td>   \n",
       "</tr>\n",
       "</table>\n",
       "<table class=\"simpletable\">\n",
       "<tr>\n",
       "    <td></td>       <th>coef</th>     <th>std err</th>      <th>t</th>      <th>P>|t|</th>  <th>[0.025</th>    <th>0.975]</th>  \n",
       "</tr>\n",
       "<tr>\n",
       "  <th>const</th> <td>   54.0381</td> <td>    5.754</td> <td>    9.392</td> <td> 0.000</td> <td>   42.644</td> <td>   65.432</td>\n",
       "</tr>\n",
       "<tr>\n",
       "  <th>x1</th>    <td>  -95.4398</td> <td>   11.912</td> <td>   -8.012</td> <td> 0.000</td> <td> -119.028</td> <td>  -71.851</td>\n",
       "</tr>\n",
       "</table>\n",
       "<table class=\"simpletable\">\n",
       "<tr>\n",
       "  <th>Omnibus:</th>       <td>59.093</td> <th>  Durbin-Watson:     </th> <td>   0.644</td>\n",
       "</tr>\n",
       "<tr>\n",
       "  <th>Prob(Omnibus):</th> <td> 0.000</td> <th>  Jarque-Bera (JB):  </th> <td> 171.130</td>\n",
       "</tr>\n",
       "<tr>\n",
       "  <th>Skew:</th>          <td> 1.906</td> <th>  Prob(JB):          </th> <td>6.91e-38</td>\n",
       "</tr>\n",
       "<tr>\n",
       "  <th>Kurtosis:</th>      <td> 7.438</td> <th>  Cond. No.          </th> <td>    13.3</td>\n",
       "</tr>\n",
       "</table><br/><br/>Warnings:<br/>[1] Standard Errors assume that the covariance matrix of the errors is correctly specified."
      ],
      "text/plain": [
       "<class 'statsmodels.iolib.summary.Summary'>\n",
       "\"\"\"\n",
       "                            OLS Regression Results                            \n",
       "==============================================================================\n",
       "Dep. Variable:                      y   R-squared:                       0.352\n",
       "Model:                            OLS   Adj. R-squared:                  0.347\n",
       "Method:                 Least Squares   F-statistic:                     64.20\n",
       "Date:                Sun, 24 May 2020   Prob (F-statistic):           9.00e-13\n",
       "Time:                        11:25:28   Log-Likelihood:                -468.15\n",
       "No. Observations:                 120   AIC:                             940.3\n",
       "Df Residuals:                     118   BIC:                             945.9\n",
       "Df Model:                           1                                         \n",
       "Covariance Type:            nonrobust                                         \n",
       "==============================================================================\n",
       "                 coef    std err          t      P>|t|      [0.025      0.975]\n",
       "------------------------------------------------------------------------------\n",
       "const         54.0381      5.754      9.392      0.000      42.644      65.432\n",
       "x1           -95.4398     11.912     -8.012      0.000    -119.028     -71.851\n",
       "==============================================================================\n",
       "Omnibus:                       59.093   Durbin-Watson:                   0.644\n",
       "Prob(Omnibus):                  0.000   Jarque-Bera (JB):              171.130\n",
       "Skew:                           1.906   Prob(JB):                     6.91e-38\n",
       "Kurtosis:                       7.438   Cond. No.                         13.3\n",
       "==============================================================================\n",
       "\n",
       "Warnings:\n",
       "[1] Standard Errors assume that the covariance matrix of the errors is correctly specified.\n",
       "\"\"\""
      ]
     },
     "execution_count": 35,
     "metadata": {},
     "output_type": "execute_result"
    }
   ],
   "source": [
    "results = sm.OLS(np.asarray(covid_hk.diff()[\"2020-01-23\":],dtype = 'float'),sm.add_constant(np.asarray(cmi_hk[\"2020-01-23\":],dtype = 'float'))).fit()\n",
    "results.summary()"
   ]
  },
  {
   "cell_type": "code",
   "execution_count": 36,
   "metadata": {},
   "outputs": [
    {
     "data": {
      "image/png": "[encoded data removed]",
      "text/plain": [
       "<Figure size 432x288 with 1 Axes>"
      ]
     },
     "metadata": {
      "needs_background": "light"
     },
     "output_type": "display_data"
    }
   ],
   "source": [
    "OLS_predict = pd.DataFrame(results.predict(sm.add_constant(np.asarray(cmi_hk[\"2020-01-22\":],dtype = 'float'))))\n",
    "OLS_predict.index = (pd.date_range(start=pd.datetime(2020, 1, 22), periods=121, freq='D'))\n",
    "plt.plot(covid_hk.diff())\n",
    "plt.plot(OLS_predict)\n",
    "plt.legend([\"Real\",\"OLS prediction\"])\n",
    "plt.xticks(rotation=45)\n",
    "plt.draw()"
   ]
  },
  {
   "cell_type": "markdown",
   "metadata": {},
   "source": [
    "## Prediction using Ridge"
   ]
  },
  {
   "cell_type": "markdown",
   "metadata": {},
   "source": [
    "### What is Ridge?\n",
    "Technique for analyzing multiple regression data that suffer from multicollinearity\n",
    "\n",
    "- Ridge regression avoids overfitting problem on Least square regression. It works in part because it doesn’t require unbiased estimators.\n",
    "\n",
    "- Least squares produces unbiased estimates, variances can be so large that they may be wholly inaccurate.\n",
    "\n",
    "- Ridge regression adds just enough bias to make the estimates reasonably reliable approximations to true population values."
   ]
  },
  {
   "cell_type": "markdown",
   "metadata": {},
   "source": [
    "### Fitting the data"
   ]
  },
  {
   "cell_type": "code",
   "execution_count": 37,
   "metadata": {},
   "outputs": [
    {
     "data": {
      "text/plain": [
       "0.35234782804733844"
      ]
     },
     "execution_count": 37,
     "metadata": {},
     "output_type": "execute_result"
    }
   ],
   "source": [
    "from sklearn.linear_model import Ridge\n",
    "results = Ridge(alpha=0.0001)\n",
    "results.fit(cmi_hk[\"2020-01-23\":].astype(float),covid_hk.diff()[\"2020-01-23\":].astype(float))\n",
    "results.score(cmi_hk[\"2020-01-23\":].astype(float),covid_hk.diff()[\"2020-01-23\":].astype(float))"
   ]
  },
  {
   "cell_type": "code",
   "execution_count": 38,
   "metadata": {
    "scrolled": true
   },
   "outputs": [
    {
     "data": {
      "image/png": "[encoded data removed]",
      "text/plain": [
       "<Figure size 432x288 with 1 Axes>"
      ]
     },
     "metadata": {
      "needs_background": "light"
     },
     "output_type": "display_data"
    }
   ],
   "source": [
    "Ridge_predict = pd.DataFrame(results.predict(cmi_hk[\"2020-01-22\":].astype(float)))\n",
    "Ridge_predict.index = (pd.date_range(start=pd.datetime(2020, 1, 22), periods=121, freq='D'))\n",
    "plt.plot(covid_hk.diff())\n",
    "plt.plot(Ridge_predict)\n",
    "plt.legend([\"Real\",\"Ridge prediction\"])\n",
    "plt.xticks(rotation=45)\n",
    "plt.draw()"
   ]
  },
  {
   "cell_type": "markdown",
   "metadata": {},
   "source": [
    "## Prediction using Lasso"
   ]
  },
  {
   "cell_type": "markdown",
   "metadata": {},
   "source": [
    "### What is Lasso?\n",
    "**L**east **A**bsolute **S**hrinkage and **S**election **O**perator\n",
    "\n",
    "- Performs both variable selection and regularization to enhance the prediction accuracy and interpretability of the statistical model it produces.\n",
    "\n",
    "- The only difference from Ridge regression is that the regularization term is in absolute value."
   ]
  },
  {
   "cell_type": "markdown",
   "metadata": {},
   "source": [
    "### Fitting the data"
   ]
  },
  {
   "cell_type": "code",
   "execution_count": 39,
   "metadata": {},
   "outputs": [
    {
     "data": {
      "text/plain": [
       "0.3523473029573695"
      ]
     },
     "execution_count": 39,
     "metadata": {},
     "output_type": "execute_result"
    }
   ],
   "source": [
    "from sklearn.linear_model import Lasso\n",
    "results = Lasso(alpha=0.001)\n",
    "results.fit(cmi_hk[\"2020-01-23\":].astype(float),covid_hk.diff()[\"2020-01-23\":].astype(float))\n",
    "results.score(cmi_hk[\"2020-01-23\":].astype(float),covid_hk.diff()[\"2020-01-23\":].astype(float))\n"
   ]
  },
  {
   "cell_type": "code",
   "execution_count": 40,
   "metadata": {
    "scrolled": true
   },
   "outputs": [
    {
     "data": {
      "image/png": "[encoded data removed]",
      "text/plain": [
       "<Figure size 432x288 with 1 Axes>"
      ]
     },
     "metadata": {
      "needs_background": "light"
     },
     "output_type": "display_data"
    }
   ],
   "source": [
    "Lasso_predict = pd.DataFrame(results.predict(cmi_hk[\"2020-01-22\":].astype(float)))\n",
    "Lasso_predict.index = (pd.date_range(start=pd.datetime(2020, 1, 22), periods=121, freq='D'))\n",
    "plt.plot(covid_hk.diff())\n",
    "plt.plot(Lasso_predict)\n",
    "plt.legend([\"Real\",\"Lasso prediction\"])\n",
    "plt.xticks(rotation=45)\n",
    "plt.draw()"
   ]
  },
  {
   "cell_type": "markdown",
   "metadata": {},
   "source": [
    "From the results of the three model, the model actually cannot fit very well to the data. This also support our conclusion in the previous part - More data is needed to predicting the confirmed cases."
   ]
  },
  {
   "cell_type": "markdown",
   "metadata": {},
   "source": [
    "# Prediction with time series models\n",
    "## Prediction using ARIMA"
   ]
  },
  {
   "cell_type": "markdown",
   "metadata": {},
   "source": [
    "### What is ARIMA?\n",
    "**A**uto**R**egressive **I**ntegrated **M**oving **A**verage Model\n",
    "\n",
    "- Fitted to time series data either to better understand the data or to predict future points in the series (forecasting)\n",
    "\n",
    "- Has three compartment\n",
    "\n",
    "    - Autoregression (AR)\n",
    "    \n",
    "    - Differencing (I)\n",
    "    \n",
    "    - Moving Average (MA)\n",
    "    \n",
    "- Best for data that is related to time\n",
    "\n",
    "**Autoregressive component (AR):**\n",
    "\n",
    "- Forecasts only using a combination of the past values sorta like linear regression\n",
    "\n",
    "- The number of AR terms used is directly proportional to the number of previous periods taken into consideration for the forecasting.\n",
    "\n",
    "Use AR terms in the model when the\n",
    "\n",
    "- ACF plots show autocorrelation decaying towards zero\n",
    "\n",
    "- PACF plot cuts off quickly towards zero\n",
    "\n",
    "- ACF of a stationary series shows positive at lag-1\n",
    "\n",
    "*Autocorrelation function plot (ACF)\n",
    "\n",
    "*Partial Autocorrelation Function plots (PACF)"
   ]
  },
  {
   "cell_type": "code",
   "execution_count": 41,
   "metadata": {},
   "outputs": [
    {
     "data": {
      "image/png": "[encoded data removed]",
      "text/plain": [
       "<Figure size 432x288 with 1 Axes>"
      ]
     },
     "metadata": {
      "needs_background": "light"
     },
     "output_type": "display_data"
    },
    {
     "data": {
      "image/png": "[encoded data removed]",
      "text/plain": [
       "<Figure size 432x288 with 1 Axes>"
      ]
     },
     "metadata": {
      "needs_background": "light"
     },
     "output_type": "display_data"
    }
   ],
   "source": [
    "from statsmodels.tsa.stattools import acf  \n",
    "from statsmodels.tsa.stattools import pacf\n",
    "\n",
    "from statsmodels.graphics.tsaplots import plot_acf\n",
    "from statsmodels.graphics.tsaplots import plot_pacf\n",
    "\n",
    "x = plot_acf(covid_hk.diff()[\"2020-01-23\":].astype(float))\n",
    "y = plot_pacf(covid_hk.diff()[\"2020-01-23\":].astype(float))"
   ]
  },
  {
   "cell_type": "markdown",
   "metadata": {},
   "source": [
    "From here we can see that how our data (daily confirmed case) perfrom in ACF and PACF plot.\n",
    "\n",
    "The ACF plots show autocorrelation decaying towards zero and the PACF plots cuts off quickly towards zero\n",
    "\n",
    "So we will use AR in our model."
   ]
  },
  {
   "cell_type": "markdown",
   "metadata": {},
   "source": [
    "**Moving Averages (MA):**\n",
    "\n",
    "- Random jumps in the time series plot whose effect is felt in two or more consecutive periods.\n",
    "\n",
    "- represent the error calculated in our ARIMA model and represent what the MA component would lag for.\n",
    "\n",
    "- A purely MA model would smooth out these sudden jumps like the exponential smoothing method."
   ]
  },
  {
   "cell_type": "markdown",
   "metadata": {},
   "source": [
    "**Integrated component(I):**\n",
    "\n",
    "This component comes into action when the time series is not stationary. The number of times we have to difference the series to make it stationary is the parameter(i-term) for the integrated component.\n",
    "\n",
    "We can represent our model as ARIMA(ar-term, ma-term, i-term)"
   ]
  },
  {
   "cell_type": "markdown",
   "metadata": {},
   "source": [
    "Auto Regressive (AR only) model:\n",
    "    \n",
    "$$ Y_t = \\alpha + \\beta_1Y_{t-1} + \\beta_2Y_{t-2} + .. + \\beta_pY_{t-p} + \\epsilon_1  $$\n",
    "\n",
    "Moving Average (MA only) model:\n",
    "\n",
    "$$ Y_t = \\alpha + \\epsilon_t + \\phi_1\\epsilon_{t-1} + \\phi_2\\epsilon_{t-2} + .. + \\phi_q\\epsilon_{t-q} $$"
   ]
  },
  {
   "cell_type": "markdown",
   "metadata": {},
   "source": [
    "### Predicting"
   ]
  },
  {
   "cell_type": "code",
   "execution_count": 42,
   "metadata": {},
   "outputs": [],
   "source": [
    "from statsmodels.tsa.arima_model import ARIMA"
   ]
  },
  {
   "cell_type": "code",
   "execution_count": 43,
   "metadata": {},
   "outputs": [
    {
     "data": {
      "text/html": [
       "<table class=\"simpletable\">\n",
       "<caption>ARIMA Model Results</caption>\n",
       "<tr>\n",
       "  <th>Dep. Variable:</th> <td>D.Confirmed Case</td> <th>  No. Observations:  </th>    <td>119</td>  \n",
       "</tr>\n",
       "<tr>\n",
       "  <th>Model:</th>          <td>ARIMA(15, 1, 2)</td> <th>  Log Likelihood     </th> <td>-392.410</td>\n",
       "</tr>\n",
       "<tr>\n",
       "  <th>Method:</th>             <td>css-mle</td>     <th>  S.D. of innovations</th>   <td>6.478</td> \n",
       "</tr>\n",
       "<tr>\n",
       "  <th>Date:</th>          <td>Sun, 24 May 2020</td> <th>  AIC                </th>  <td>822.821</td>\n",
       "</tr>\n",
       "<tr>\n",
       "  <th>Time:</th>              <td>11:25:49</td>     <th>  BIC                </th>  <td>875.624</td>\n",
       "</tr>\n",
       "<tr>\n",
       "  <th>Sample:</th>           <td>01-24-2020</td>    <th>  HQIC               </th>  <td>844.262</td>\n",
       "</tr>\n",
       "<tr>\n",
       "  <th></th>                 <td>- 05-21-2020</td>   <th>                     </th>     <td> </td>   \n",
       "</tr>\n",
       "</table>\n",
       "<table class=\"simpletable\">\n",
       "<tr>\n",
       "             <td></td>                <th>coef</th>     <th>std err</th>      <th>z</th>      <th>P>|z|</th>  <th>[0.025</th>    <th>0.975]</th>  \n",
       "</tr>\n",
       "<tr>\n",
       "  <th>const</th>                   <td>   -0.0223</td> <td>    0.285</td> <td>   -0.078</td> <td> 0.938</td> <td>   -0.580</td> <td>    0.535</td>\n",
       "</tr>\n",
       "<tr>\n",
       "  <th>ar.L1.D.Confirmed Case</th>  <td>   -0.7067</td> <td>    0.193</td> <td>   -3.669</td> <td> 0.000</td> <td>   -1.084</td> <td>   -0.329</td>\n",
       "</tr>\n",
       "<tr>\n",
       "  <th>ar.L2.D.Confirmed Case</th>  <td>    0.4728</td> <td>    0.237</td> <td>    1.992</td> <td> 0.049</td> <td>    0.008</td> <td>    0.938</td>\n",
       "</tr>\n",
       "<tr>\n",
       "  <th>ar.L3.D.Confirmed Case</th>  <td>    0.3757</td> <td>    0.155</td> <td>    2.420</td> <td> 0.017</td> <td>    0.071</td> <td>    0.680</td>\n",
       "</tr>\n",
       "<tr>\n",
       "  <th>ar.L4.D.Confirmed Case</th>  <td>    0.1233</td> <td>    0.123</td> <td>    1.005</td> <td> 0.317</td> <td>   -0.117</td> <td>    0.364</td>\n",
       "</tr>\n",
       "<tr>\n",
       "  <th>ar.L5.D.Confirmed Case</th>  <td>    0.0892</td> <td>    0.121</td> <td>    0.740</td> <td> 0.461</td> <td>   -0.147</td> <td>    0.326</td>\n",
       "</tr>\n",
       "<tr>\n",
       "  <th>ar.L6.D.Confirmed Case</th>  <td>    0.0678</td> <td>    0.120</td> <td>    0.565</td> <td> 0.574</td> <td>   -0.167</td> <td>    0.303</td>\n",
       "</tr>\n",
       "<tr>\n",
       "  <th>ar.L7.D.Confirmed Case</th>  <td>    0.2536</td> <td>    0.120</td> <td>    2.105</td> <td> 0.038</td> <td>    0.017</td> <td>    0.490</td>\n",
       "</tr>\n",
       "<tr>\n",
       "  <th>ar.L8.D.Confirmed Case</th>  <td>    0.0626</td> <td>    0.132</td> <td>    0.473</td> <td> 0.637</td> <td>   -0.196</td> <td>    0.322</td>\n",
       "</tr>\n",
       "<tr>\n",
       "  <th>ar.L9.D.Confirmed Case</th>  <td>   -0.0817</td> <td>    0.126</td> <td>   -0.648</td> <td> 0.518</td> <td>   -0.329</td> <td>    0.165</td>\n",
       "</tr>\n",
       "<tr>\n",
       "  <th>ar.L10.D.Confirmed Case</th> <td>    0.1981</td> <td>    0.118</td> <td>    1.678</td> <td> 0.096</td> <td>   -0.033</td> <td>    0.429</td>\n",
       "</tr>\n",
       "<tr>\n",
       "  <th>ar.L11.D.Confirmed Case</th> <td>   -0.0673</td> <td>    0.123</td> <td>   -0.546</td> <td> 0.586</td> <td>   -0.309</td> <td>    0.174</td>\n",
       "</tr>\n",
       "<tr>\n",
       "  <th>ar.L12.D.Confirmed Case</th> <td>   -0.2015</td> <td>    0.120</td> <td>   -1.686</td> <td> 0.095</td> <td>   -0.436</td> <td>    0.033</td>\n",
       "</tr>\n",
       "<tr>\n",
       "  <th>ar.L13.D.Confirmed Case</th> <td>   -0.1165</td> <td>    0.120</td> <td>   -0.974</td> <td> 0.332</td> <td>   -0.351</td> <td>    0.118</td>\n",
       "</tr>\n",
       "<tr>\n",
       "  <th>ar.L14.D.Confirmed Case</th> <td>   -0.1326</td> <td>    0.127</td> <td>   -1.047</td> <td> 0.298</td> <td>   -0.381</td> <td>    0.116</td>\n",
       "</tr>\n",
       "<tr>\n",
       "  <th>ar.L15.D.Confirmed Case</th> <td>   -0.1092</td> <td>    0.097</td> <td>   -1.121</td> <td> 0.265</td> <td>   -0.300</td> <td>    0.082</td>\n",
       "</tr>\n",
       "<tr>\n",
       "  <th>ma.L1.D.Confirmed Case</th>  <td>    0.1367</td> <td>    0.178</td> <td>    0.766</td> <td> 0.446</td> <td>   -0.213</td> <td>    0.486</td>\n",
       "</tr>\n",
       "<tr>\n",
       "  <th>ma.L2.D.Confirmed Case</th>  <td>   -0.7878</td> <td>    0.176</td> <td>   -4.466</td> <td> 0.000</td> <td>   -1.134</td> <td>   -0.442</td>\n",
       "</tr>\n",
       "</table>\n",
       "<table class=\"simpletable\">\n",
       "<caption>Roots</caption>\n",
       "<tr>\n",
       "    <td></td>    <th>            Real</th>  <th>         Imaginary</th> <th>         Modulus</th>  <th>        Frequency</th>\n",
       "</tr>\n",
       "<tr>\n",
       "  <th>AR.1</th>  <td>          -1.0211</td> <td>          -0.0000j</td> <td>           1.0211</td> <td>          -0.5000</td>\n",
       "</tr>\n",
       "<tr>\n",
       "  <th>AR.2</th>  <td>          -1.0020</td> <td>          -0.5095j</td> <td>           1.1241</td> <td>          -0.4251</td>\n",
       "</tr>\n",
       "<tr>\n",
       "  <th>AR.3</th>  <td>          -1.0020</td> <td>          +0.5095j</td> <td>           1.1241</td> <td>           0.4251</td>\n",
       "</tr>\n",
       "<tr>\n",
       "  <th>AR.4</th>  <td>          -1.1184</td> <td>          -0.5640j</td> <td>           1.2525</td> <td>          -0.4257</td>\n",
       "</tr>\n",
       "<tr>\n",
       "  <th>AR.5</th>  <td>          -1.1184</td> <td>          +0.5640j</td> <td>           1.2525</td> <td>           0.4257</td>\n",
       "</tr>\n",
       "<tr>\n",
       "  <th>AR.6</th>  <td>          -0.4075</td> <td>          -1.0096j</td> <td>           1.0888</td> <td>          -0.3111</td>\n",
       "</tr>\n",
       "<tr>\n",
       "  <th>AR.7</th>  <td>          -0.4075</td> <td>          +1.0096j</td> <td>           1.0888</td> <td>           0.3111</td>\n",
       "</tr>\n",
       "<tr>\n",
       "  <th>AR.8</th>  <td>           1.0327</td> <td>          -0.1535j</td> <td>           1.0440</td> <td>          -0.0235</td>\n",
       "</tr>\n",
       "<tr>\n",
       "  <th>AR.9</th>  <td>           1.0327</td> <td>          +0.1535j</td> <td>           1.0440</td> <td>           0.0235</td>\n",
       "</tr>\n",
       "<tr>\n",
       "  <th>AR.10</th> <td>           0.8516</td> <td>          -0.7249j</td> <td>           1.1184</td> <td>          -0.1122</td>\n",
       "</tr>\n",
       "<tr>\n",
       "  <th>AR.11</th> <td>           0.8516</td> <td>          +0.7249j</td> <td>           1.1184</td> <td>           0.1122</td>\n",
       "</tr>\n",
       "<tr>\n",
       "  <th>AR.12</th> <td>           0.4696</td> <td>          -1.1240j</td> <td>           1.2182</td> <td>          -0.1870</td>\n",
       "</tr>\n",
       "<tr>\n",
       "  <th>AR.13</th> <td>           0.4696</td> <td>          +1.1240j</td> <td>           1.2182</td> <td>           0.1870</td>\n",
       "</tr>\n",
       "<tr>\n",
       "  <th>AR.14</th> <td>           0.0775</td> <td>          -1.3712j</td> <td>           1.3734</td> <td>          -0.2410</td>\n",
       "</tr>\n",
       "<tr>\n",
       "  <th>AR.15</th> <td>           0.0775</td> <td>          +1.3712j</td> <td>           1.3734</td> <td>           0.2410</td>\n",
       "</tr>\n",
       "<tr>\n",
       "  <th>MA.1</th>  <td>          -1.0432</td> <td>          +0.0000j</td> <td>           1.0432</td> <td>           0.5000</td>\n",
       "</tr>\n",
       "<tr>\n",
       "  <th>MA.2</th>  <td>           1.2167</td> <td>          +0.0000j</td> <td>           1.2167</td> <td>           0.0000</td>\n",
       "</tr>\n",
       "</table>"
      ],
      "text/plain": [
       "<class 'statsmodels.iolib.summary.Summary'>\n",
       "\"\"\"\n",
       "                             ARIMA Model Results                              \n",
       "==============================================================================\n",
       "Dep. Variable:       D.Confirmed Case   No. Observations:                  119\n",
       "Model:                ARIMA(15, 1, 2)   Log Likelihood                -392.410\n",
       "Method:                       css-mle   S.D. of innovations              6.478\n",
       "Date:                Sun, 24 May 2020   AIC                            822.821\n",
       "Time:                        11:25:49   BIC                            875.624\n",
       "Sample:                    01-24-2020   HQIC                           844.262\n",
       "                         - 05-21-2020                                         \n",
       "===========================================================================================\n",
       "                              coef    std err          z      P>|z|      [0.025      0.975]\n",
       "-------------------------------------------------------------------------------------------\n",
       "const                      -0.0223      0.285     -0.078      0.938      -0.580       0.535\n",
       "ar.L1.D.Confirmed Case     -0.7067      0.193     -3.669      0.000      -1.084      -0.329\n",
       "ar.L2.D.Confirmed Case      0.4728      0.237      1.992      0.049       0.008       0.938\n",
       "ar.L3.D.Confirmed Case      0.3757      0.155      2.420      0.017       0.071       0.680\n",
       "ar.L4.D.Confirmed Case      0.1233      0.123      1.005      0.317      -0.117       0.364\n",
       "ar.L5.D.Confirmed Case      0.0892      0.121      0.740      0.461      -0.147       0.326\n",
       "ar.L6.D.Confirmed Case      0.0678      0.120      0.565      0.574      -0.167       0.303\n",
       "ar.L7.D.Confirmed Case      0.2536      0.120      2.105      0.038       0.017       0.490\n",
       "ar.L8.D.Confirmed Case      0.0626      0.132      0.473      0.637      -0.196       0.322\n",
       "ar.L9.D.Confirmed Case     -0.0817      0.126     -0.648      0.518      -0.329       0.165\n",
       "ar.L10.D.Confirmed Case     0.1981      0.118      1.678      0.096      -0.033       0.429\n",
       "ar.L11.D.Confirmed Case    -0.0673      0.123     -0.546      0.586      -0.309       0.174\n",
       "ar.L12.D.Confirmed Case    -0.2015      0.120     -1.686      0.095      -0.436       0.033\n",
       "ar.L13.D.Confirmed Case    -0.1165      0.120     -0.974      0.332      -0.351       0.118\n",
       "ar.L14.D.Confirmed Case    -0.1326      0.127     -1.047      0.298      -0.381       0.116\n",
       "ar.L15.D.Confirmed Case    -0.1092      0.097     -1.121      0.265      -0.300       0.082\n",
       "ma.L1.D.Confirmed Case      0.1367      0.178      0.766      0.446      -0.213       0.486\n",
       "ma.L2.D.Confirmed Case     -0.7878      0.176     -4.466      0.000      -1.134      -0.442\n",
       "                                    Roots                                     \n",
       "==============================================================================\n",
       "                   Real          Imaginary           Modulus         Frequency\n",
       "------------------------------------------------------------------------------\n",
       "AR.1            -1.0211           -0.0000j            1.0211           -0.5000\n",
       "AR.2            -1.0020           -0.5095j            1.1241           -0.4251\n",
       "AR.3            -1.0020           +0.5095j            1.1241            0.4251\n",
       "AR.4            -1.1184           -0.5640j            1.2525           -0.4257\n",
       "AR.5            -1.1184           +0.5640j            1.2525            0.4257\n",
       "AR.6            -0.4075           -1.0096j            1.0888           -0.3111\n",
       "AR.7            -0.4075           +1.0096j            1.0888            0.3111\n",
       "AR.8             1.0327           -0.1535j            1.0440           -0.0235\n",
       "AR.9             1.0327           +0.1535j            1.0440            0.0235\n",
       "AR.10            0.8516           -0.7249j            1.1184           -0.1122\n",
       "AR.11            0.8516           +0.7249j            1.1184            0.1122\n",
       "AR.12            0.4696           -1.1240j            1.2182           -0.1870\n",
       "AR.13            0.4696           +1.1240j            1.2182            0.1870\n",
       "AR.14            0.0775           -1.3712j            1.3734           -0.2410\n",
       "AR.15            0.0775           +1.3712j            1.3734            0.2410\n",
       "MA.1            -1.0432           +0.0000j            1.0432            0.5000\n",
       "MA.2             1.2167           +0.0000j            1.2167            0.0000\n",
       "------------------------------------------------------------------------------\n",
       "\"\"\""
      ]
     },
     "execution_count": 43,
     "metadata": {},
     "output_type": "execute_result"
    }
   ],
   "source": [
    "results = ARIMA(covid_hk.diff()[\"2020-01-23\":].astype(float),order=(15,1,2)).fit()\n",
    "results.summary()"
   ]
  },
  {
   "cell_type": "code",
   "execution_count": 44,
   "metadata": {},
   "outputs": [
    {
     "data": {
      "image/png": "[encoded data removed]",
      "text/plain": [
       "<Figure size 432x288 with 1 Axes>"
      ]
     },
     "metadata": {
      "needs_background": "light"
     },
     "output_type": "display_data"
    }
   ],
   "source": [
    "x = results.plot_predict(\"2020-01-25\",\"2020-05-30\",dynamic=False)"
   ]
  },
  {
   "cell_type": "markdown",
   "metadata": {},
   "source": [
    "From here we can know that ARIMA gives a quite accurate result while forcasting the result with from day before."
   ]
  },
  {
   "cell_type": "markdown",
   "metadata": {},
   "source": [
    "# Prediction for other country\n",
    "\n",
    "Now we know that using ARIMA can give a quite accurate result in estimating daily confirmed case. So now we will try to predict the daily trand for courtries other than Hong Kong."
   ]
  },
  {
   "cell_type": "markdown",
   "metadata": {},
   "source": [
    "## Spain"
   ]
  },
  {
   "cell_type": "code",
   "execution_count": 45,
   "metadata": {},
   "outputs": [
    {
     "data": {
      "text/html": [
       "<div>\n",
       "<style scoped>\n",
       "    .dataframe tbody tr th:only-of-type {\n",
       "        vertical-align: middle;\n",
       "    }\n",
       "\n",
       "    .dataframe tbody tr th {\n",
       "        vertical-align: top;\n",
       "    }\n",
       "\n",
       "    .dataframe thead th {\n",
       "        text-align: right;\n",
       "    }\n",
       "</style>\n",
       "<table border=\"1\" class=\"dataframe\">\n",
       "  <thead>\n",
       "    <tr style=\"text-align: right;\">\n",
       "      <th></th>\n",
       "      <th>Confirmed Case</th>\n",
       "    </tr>\n",
       "  </thead>\n",
       "  <tbody>\n",
       "    <tr>\n",
       "      <th>2020-01-22</th>\n",
       "      <td>0.0</td>\n",
       "    </tr>\n",
       "    <tr>\n",
       "      <th>2020-01-23</th>\n",
       "      <td>0.0</td>\n",
       "    </tr>\n",
       "    <tr>\n",
       "      <th>2020-01-24</th>\n",
       "      <td>0.0</td>\n",
       "    </tr>\n",
       "    <tr>\n",
       "      <th>2020-01-25</th>\n",
       "      <td>0.0</td>\n",
       "    </tr>\n",
       "    <tr>\n",
       "      <th>2020-01-26</th>\n",
       "      <td>0.0</td>\n",
       "    </tr>\n",
       "    <tr>\n",
       "      <th>...</th>\n",
       "      <td>...</td>\n",
       "    </tr>\n",
       "    <tr>\n",
       "      <th>2020-05-17</th>\n",
       "      <td>230698.0</td>\n",
       "    </tr>\n",
       "    <tr>\n",
       "      <th>2020-05-18</th>\n",
       "      <td>231606.0</td>\n",
       "    </tr>\n",
       "    <tr>\n",
       "      <th>2020-05-19</th>\n",
       "      <td>232037.0</td>\n",
       "    </tr>\n",
       "    <tr>\n",
       "      <th>2020-05-20</th>\n",
       "      <td>232555.0</td>\n",
       "    </tr>\n",
       "    <tr>\n",
       "      <th>2020-05-21</th>\n",
       "      <td>233037.0</td>\n",
       "    </tr>\n",
       "  </tbody>\n",
       "</table>\n",
       "<p>121 rows × 1 columns</p>\n",
       "</div>"
      ],
      "text/plain": [
       "            Confirmed Case\n",
       "2020-01-22             0.0\n",
       "2020-01-23             0.0\n",
       "2020-01-24             0.0\n",
       "2020-01-25             0.0\n",
       "2020-01-26             0.0\n",
       "...                    ...\n",
       "2020-05-17        230698.0\n",
       "2020-05-18        231606.0\n",
       "2020-05-19        232037.0\n",
       "2020-05-20        232555.0\n",
       "2020-05-21        233037.0\n",
       "\n",
       "[121 rows x 1 columns]"
      ]
     },
     "execution_count": 45,
     "metadata": {},
     "output_type": "execute_result"
    }
   ],
   "source": [
    "covid_spain = covid[[(None,\"Spain\")]][2:]\n",
    "covid_spain.index=(pd.date_range(start=pd.datetime(2020, 1, 22), periods=121, freq='D'))\n",
    "covid_spain.columns = [\"Confirmed Case\"]\n",
    "covid_spain\n"
   ]
  },
  {
   "cell_type": "code",
   "execution_count": 46,
   "metadata": {},
   "outputs": [
    {
     "data": {
      "text/html": [
       "<div>\n",
       "<style scoped>\n",
       "    .dataframe tbody tr th:only-of-type {\n",
       "        vertical-align: middle;\n",
       "    }\n",
       "\n",
       "    .dataframe tbody tr th {\n",
       "        vertical-align: top;\n",
       "    }\n",
       "\n",
       "    .dataframe thead th {\n",
       "        text-align: right;\n",
       "    }\n",
       "</style>\n",
       "<table border=\"1\" class=\"dataframe\">\n",
       "  <thead>\n",
       "    <tr style=\"text-align: right;\">\n",
       "      <th></th>\n",
       "      <th>Confirmed Case</th>\n",
       "    </tr>\n",
       "  </thead>\n",
       "  <tbody>\n",
       "    <tr>\n",
       "      <th>2020-01-22</th>\n",
       "      <td>NaN</td>\n",
       "    </tr>\n",
       "    <tr>\n",
       "      <th>2020-01-23</th>\n",
       "      <td>0.0</td>\n",
       "    </tr>\n",
       "    <tr>\n",
       "      <th>2020-01-24</th>\n",
       "      <td>0.0</td>\n",
       "    </tr>\n",
       "    <tr>\n",
       "      <th>2020-01-25</th>\n",
       "      <td>0.0</td>\n",
       "    </tr>\n",
       "    <tr>\n",
       "      <th>2020-01-26</th>\n",
       "      <td>0.0</td>\n",
       "    </tr>\n",
       "    <tr>\n",
       "      <th>...</th>\n",
       "      <td>...</td>\n",
       "    </tr>\n",
       "    <tr>\n",
       "      <th>2020-05-17</th>\n",
       "      <td>0.0</td>\n",
       "    </tr>\n",
       "    <tr>\n",
       "      <th>2020-05-18</th>\n",
       "      <td>908.0</td>\n",
       "    </tr>\n",
       "    <tr>\n",
       "      <th>2020-05-19</th>\n",
       "      <td>431.0</td>\n",
       "    </tr>\n",
       "    <tr>\n",
       "      <th>2020-05-20</th>\n",
       "      <td>518.0</td>\n",
       "    </tr>\n",
       "    <tr>\n",
       "      <th>2020-05-21</th>\n",
       "      <td>482.0</td>\n",
       "    </tr>\n",
       "  </tbody>\n",
       "</table>\n",
       "<p>121 rows × 1 columns</p>\n",
       "</div>"
      ],
      "text/plain": [
       "            Confirmed Case\n",
       "2020-01-22             NaN\n",
       "2020-01-23             0.0\n",
       "2020-01-24             0.0\n",
       "2020-01-25             0.0\n",
       "2020-01-26             0.0\n",
       "...                    ...\n",
       "2020-05-17             0.0\n",
       "2020-05-18           908.0\n",
       "2020-05-19           431.0\n",
       "2020-05-20           518.0\n",
       "2020-05-21           482.0\n",
       "\n",
       "[121 rows x 1 columns]"
      ]
     },
     "execution_count": 46,
     "metadata": {},
     "output_type": "execute_result"
    }
   ],
   "source": [
    "covid_spain.diff()"
   ]
  },
  {
   "cell_type": "code",
   "execution_count": 47,
   "metadata": {},
   "outputs": [
    {
     "data": {
      "image/png": "[encoded data removed]",
      "text/plain": [
       "<Figure size 432x288 with 1 Axes>"
      ]
     },
     "metadata": {
      "needs_background": "light"
     },
     "output_type": "display_data"
    },
    {
     "data": {
      "image/png": "[encoded data removed]",
      "text/plain": [
       "<Figure size 432x288 with 1 Axes>"
      ]
     },
     "metadata": {
      "needs_background": "light"
     },
     "output_type": "display_data"
    }
   ],
   "source": [
    "x = plot_acf(covid_spain.diff()[\"2020-01-23\":].astype(float))\n",
    "y = plot_pacf(covid_spain.diff()[\"2020-01-23\":].astype(float))"
   ]
  },
  {
   "cell_type": "code",
   "execution_count": 67,
   "metadata": {},
   "outputs": [
    {
     "data": {
      "text/html": [
       "<table class=\"simpletable\">\n",
       "<caption>ARIMA Model Results</caption>\n",
       "<tr>\n",
       "  <th>Dep. Variable:</th> <td>D.Confirmed Case</td> <th>  No. Observations:  </th>    <td>119</td>   \n",
       "</tr>\n",
       "<tr>\n",
       "  <th>Model:</th>          <td>ARIMA(3, 1, 1)</td>  <th>  Log Likelihood     </th> <td>-1051.080</td>\n",
       "</tr>\n",
       "<tr>\n",
       "  <th>Method:</th>             <td>css-mle</td>     <th>  S.D. of innovations</th> <td>1651.833</td> \n",
       "</tr>\n",
       "<tr>\n",
       "  <th>Date:</th>          <td>Sun, 24 May 2020</td> <th>  AIC                </th> <td>2114.160</td> \n",
       "</tr>\n",
       "<tr>\n",
       "  <th>Time:</th>              <td>11:39:04</td>     <th>  BIC                </th> <td>2130.835</td> \n",
       "</tr>\n",
       "<tr>\n",
       "  <th>Sample:</th>           <td>01-24-2020</td>    <th>  HQIC               </th> <td>2120.931</td> \n",
       "</tr>\n",
       "<tr>\n",
       "  <th></th>                 <td>- 05-21-2020</td>   <th>                     </th>     <td> </td>    \n",
       "</tr>\n",
       "</table>\n",
       "<table class=\"simpletable\">\n",
       "<tr>\n",
       "             <td></td>               <th>coef</th>     <th>std err</th>      <th>z</th>      <th>P>|z|</th>  <th>[0.025</th>    <th>0.975]</th>  \n",
       "</tr>\n",
       "<tr>\n",
       "  <th>const</th>                  <td>    4.5787</td> <td>   66.419</td> <td>    0.069</td> <td> 0.945</td> <td> -125.600</td> <td>  134.758</td>\n",
       "</tr>\n",
       "<tr>\n",
       "  <th>ar.L1.D.Confirmed Case</th> <td>   -1.2855</td> <td>    0.146</td> <td>   -8.803</td> <td> 0.000</td> <td>   -1.572</td> <td>   -0.999</td>\n",
       "</tr>\n",
       "<tr>\n",
       "  <th>ar.L2.D.Confirmed Case</th> <td>   -0.8434</td> <td>    0.140</td> <td>   -6.033</td> <td> 0.000</td> <td>   -1.117</td> <td>   -0.569</td>\n",
       "</tr>\n",
       "<tr>\n",
       "  <th>ar.L3.D.Confirmed Case</th> <td>   -0.4305</td> <td>    0.081</td> <td>   -5.296</td> <td> 0.000</td> <td>   -0.590</td> <td>   -0.271</td>\n",
       "</tr>\n",
       "<tr>\n",
       "  <th>ma.L1.D.Confirmed Case</th> <td>    0.5501</td> <td>    0.148</td> <td>    3.724</td> <td> 0.000</td> <td>    0.261</td> <td>    0.840</td>\n",
       "</tr>\n",
       "</table>\n",
       "<table class=\"simpletable\">\n",
       "<caption>Roots</caption>\n",
       "<tr>\n",
       "    <td></td>   <th>            Real</th>  <th>         Imaginary</th> <th>         Modulus</th>  <th>        Frequency</th>\n",
       "</tr>\n",
       "<tr>\n",
       "  <th>AR.1</th> <td>          -1.1331</td> <td>          -0.0000j</td> <td>           1.1331</td> <td>          -0.5000</td>\n",
       "</tr>\n",
       "<tr>\n",
       "  <th>AR.2</th> <td>          -0.4130</td> <td>          -1.3709j</td> <td>           1.4318</td> <td>          -0.2966</td>\n",
       "</tr>\n",
       "<tr>\n",
       "  <th>AR.3</th> <td>          -0.4130</td> <td>          +1.3709j</td> <td>           1.4318</td> <td>           0.2966</td>\n",
       "</tr>\n",
       "<tr>\n",
       "  <th>MA.1</th> <td>          -1.8177</td> <td>          +0.0000j</td> <td>           1.8177</td> <td>           0.5000</td>\n",
       "</tr>\n",
       "</table>"
      ],
      "text/plain": [
       "<class 'statsmodels.iolib.summary.Summary'>\n",
       "\"\"\"\n",
       "                             ARIMA Model Results                              \n",
       "==============================================================================\n",
       "Dep. Variable:       D.Confirmed Case   No. Observations:                  119\n",
       "Model:                 ARIMA(3, 1, 1)   Log Likelihood               -1051.080\n",
       "Method:                       css-mle   S.D. of innovations           1651.833\n",
       "Date:                Sun, 24 May 2020   AIC                           2114.160\n",
       "Time:                        11:39:04   BIC                           2130.835\n",
       "Sample:                    01-24-2020   HQIC                          2120.931\n",
       "                         - 05-21-2020                                         \n",
       "==========================================================================================\n",
       "                             coef    std err          z      P>|z|      [0.025      0.975]\n",
       "------------------------------------------------------------------------------------------\n",
       "const                      4.5787     66.419      0.069      0.945    -125.600     134.758\n",
       "ar.L1.D.Confirmed Case    -1.2855      0.146     -8.803      0.000      -1.572      -0.999\n",
       "ar.L2.D.Confirmed Case    -0.8434      0.140     -6.033      0.000      -1.117      -0.569\n",
       "ar.L3.D.Confirmed Case    -0.4305      0.081     -5.296      0.000      -0.590      -0.271\n",
       "ma.L1.D.Confirmed Case     0.5501      0.148      3.724      0.000       0.261       0.840\n",
       "                                    Roots                                    \n",
       "=============================================================================\n",
       "                  Real          Imaginary           Modulus         Frequency\n",
       "-----------------------------------------------------------------------------\n",
       "AR.1           -1.1331           -0.0000j            1.1331           -0.5000\n",
       "AR.2           -0.4130           -1.3709j            1.4318           -0.2966\n",
       "AR.3           -0.4130           +1.3709j            1.4318            0.2966\n",
       "MA.1           -1.8177           +0.0000j            1.8177            0.5000\n",
       "-----------------------------------------------------------------------------\n",
       "\"\"\""
      ]
     },
     "execution_count": 67,
     "metadata": {},
     "output_type": "execute_result"
    }
   ],
   "source": [
    "results = ARIMA(covid_spain.diff()[\"2020-01-23\":].astype(float),order=(3,1,1)).fit()\n",
    "results.summary()"
   ]
  },
  {
   "cell_type": "code",
   "execution_count": 68,
   "metadata": {},
   "outputs": [
    {
     "data": {
      "image/png": "[encoded data removed]",
      "text/plain": [
       "<Figure size 432x288 with 1 Axes>"
      ]
     },
     "metadata": {
      "needs_background": "light"
     },
     "output_type": "display_data"
    }
   ],
   "source": [
    "x = results.plot_predict(\"2020-01-25\",\"2020-05-30\",dynamic=False)"
   ]
  },
  {
   "cell_type": "markdown",
   "metadata": {},
   "source": [
    "* There is an error in 22/4/2020 - 24/4/2020 in the data where the total number drop from 213024 to 202990, and then come back to 205905. So there is a drop of about 10000 in that day. And the prediction after it is unstable."
   ]
  },
  {
   "cell_type": "markdown",
   "metadata": {},
   "source": [
    "## France"
   ]
  },
  {
   "cell_type": "code",
   "execution_count": 61,
   "metadata": {},
   "outputs": [
    {
     "data": {
      "text/html": [
       "<div>\n",
       "<style scoped>\n",
       "    .dataframe tbody tr th:only-of-type {\n",
       "        vertical-align: middle;\n",
       "    }\n",
       "\n",
       "    .dataframe tbody tr th {\n",
       "        vertical-align: top;\n",
       "    }\n",
       "\n",
       "    .dataframe thead th {\n",
       "        text-align: right;\n",
       "    }\n",
       "</style>\n",
       "<table border=\"1\" class=\"dataframe\">\n",
       "  <thead>\n",
       "    <tr style=\"text-align: right;\">\n",
       "      <th></th>\n",
       "      <th>Confirmed Case</th>\n",
       "    </tr>\n",
       "  </thead>\n",
       "  <tbody>\n",
       "    <tr>\n",
       "      <th>2020-01-22</th>\n",
       "      <td>0.0</td>\n",
       "    </tr>\n",
       "    <tr>\n",
       "      <th>2020-01-23</th>\n",
       "      <td>0.0</td>\n",
       "    </tr>\n",
       "    <tr>\n",
       "      <th>2020-01-24</th>\n",
       "      <td>2.0</td>\n",
       "    </tr>\n",
       "    <tr>\n",
       "      <th>2020-01-25</th>\n",
       "      <td>3.0</td>\n",
       "    </tr>\n",
       "    <tr>\n",
       "      <th>2020-01-26</th>\n",
       "      <td>3.0</td>\n",
       "    </tr>\n",
       "    <tr>\n",
       "      <th>...</th>\n",
       "      <td>...</td>\n",
       "    </tr>\n",
       "    <tr>\n",
       "      <th>2020-05-17</th>\n",
       "      <td>177240.0</td>\n",
       "    </tr>\n",
       "    <tr>\n",
       "      <th>2020-05-18</th>\n",
       "      <td>177554.0</td>\n",
       "    </tr>\n",
       "    <tr>\n",
       "      <th>2020-05-19</th>\n",
       "      <td>178428.0</td>\n",
       "    </tr>\n",
       "    <tr>\n",
       "      <th>2020-05-20</th>\n",
       "      <td>179069.0</td>\n",
       "    </tr>\n",
       "    <tr>\n",
       "      <th>2020-05-21</th>\n",
       "      <td>179306.0</td>\n",
       "    </tr>\n",
       "  </tbody>\n",
       "</table>\n",
       "<p>121 rows × 1 columns</p>\n",
       "</div>"
      ],
      "text/plain": [
       "            Confirmed Case\n",
       "2020-01-22             0.0\n",
       "2020-01-23             0.0\n",
       "2020-01-24             2.0\n",
       "2020-01-25             3.0\n",
       "2020-01-26             3.0\n",
       "...                    ...\n",
       "2020-05-17        177240.0\n",
       "2020-05-18        177554.0\n",
       "2020-05-19        178428.0\n",
       "2020-05-20        179069.0\n",
       "2020-05-21        179306.0\n",
       "\n",
       "[121 rows x 1 columns]"
      ]
     },
     "execution_count": 61,
     "metadata": {},
     "output_type": "execute_result"
    }
   ],
   "source": [
    "covid_france = covid[[(None,\"France\")]][2:]\n",
    "covid_france.index=(pd.date_range(start=pd.datetime(2020, 1, 22), periods=121, freq='D'))\n",
    "covid_france.columns = [\"Confirmed Case\"]\n",
    "covid_france"
   ]
  },
  {
   "cell_type": "code",
   "execution_count": 64,
   "metadata": {},
   "outputs": [
    {
     "data": {
      "text/html": [
       "<div>\n",
       "<style scoped>\n",
       "    .dataframe tbody tr th:only-of-type {\n",
       "        vertical-align: middle;\n",
       "    }\n",
       "\n",
       "    .dataframe tbody tr th {\n",
       "        vertical-align: top;\n",
       "    }\n",
       "\n",
       "    .dataframe thead th {\n",
       "        text-align: right;\n",
       "    }\n",
       "</style>\n",
       "<table border=\"1\" class=\"dataframe\">\n",
       "  <thead>\n",
       "    <tr style=\"text-align: right;\">\n",
       "      <th></th>\n",
       "      <th>Confirmed Case</th>\n",
       "    </tr>\n",
       "  </thead>\n",
       "  <tbody>\n",
       "    <tr>\n",
       "      <th>2020-01-22</th>\n",
       "      <td>NaN</td>\n",
       "    </tr>\n",
       "    <tr>\n",
       "      <th>2020-01-23</th>\n",
       "      <td>0.0</td>\n",
       "    </tr>\n",
       "    <tr>\n",
       "      <th>2020-01-24</th>\n",
       "      <td>2.0</td>\n",
       "    </tr>\n",
       "    <tr>\n",
       "      <th>2020-01-25</th>\n",
       "      <td>1.0</td>\n",
       "    </tr>\n",
       "    <tr>\n",
       "      <th>2020-01-26</th>\n",
       "      <td>0.0</td>\n",
       "    </tr>\n",
       "    <tr>\n",
       "      <th>...</th>\n",
       "      <td>...</td>\n",
       "    </tr>\n",
       "    <tr>\n",
       "      <th>2020-05-17</th>\n",
       "      <td>33.0</td>\n",
       "    </tr>\n",
       "    <tr>\n",
       "      <th>2020-05-18</th>\n",
       "      <td>314.0</td>\n",
       "    </tr>\n",
       "    <tr>\n",
       "      <th>2020-05-19</th>\n",
       "      <td>874.0</td>\n",
       "    </tr>\n",
       "    <tr>\n",
       "      <th>2020-05-20</th>\n",
       "      <td>641.0</td>\n",
       "    </tr>\n",
       "    <tr>\n",
       "      <th>2020-05-21</th>\n",
       "      <td>237.0</td>\n",
       "    </tr>\n",
       "  </tbody>\n",
       "</table>\n",
       "<p>121 rows × 1 columns</p>\n",
       "</div>"
      ],
      "text/plain": [
       "            Confirmed Case\n",
       "2020-01-22             NaN\n",
       "2020-01-23             0.0\n",
       "2020-01-24             2.0\n",
       "2020-01-25             1.0\n",
       "2020-01-26             0.0\n",
       "...                    ...\n",
       "2020-05-17            33.0\n",
       "2020-05-18           314.0\n",
       "2020-05-19           874.0\n",
       "2020-05-20           641.0\n",
       "2020-05-21           237.0\n",
       "\n",
       "[121 rows x 1 columns]"
      ]
     },
     "execution_count": 64,
     "metadata": {},
     "output_type": "execute_result"
    }
   ],
   "source": [
    "covid_france.diff()"
   ]
  },
  {
   "cell_type": "code",
   "execution_count": 65,
   "metadata": {},
   "outputs": [
    {
     "data": {
      "image/png": "[encoded data removed]",
      "text/plain": [
       "<Figure size 432x288 with 1 Axes>"
      ]
     },
     "metadata": {
      "needs_background": "light"
     },
     "output_type": "display_data"
    },
    {
     "data": {
      "image/png": "[encoded data removed]",
      "text/plain": [
       "<Figure size 432x288 with 1 Axes>"
      ]
     },
     "metadata": {
      "needs_background": "light"
     },
     "output_type": "display_data"
    }
   ],
   "source": [
    "x = plot_acf(covid_france.diff()[\"2020-01-23\":].astype(float))\n",
    "y = plot_pacf(covid_france.diff()[\"2020-01-23\":].astype(float))"
   ]
  },
  {
   "cell_type": "code",
   "execution_count": 69,
   "metadata": {},
   "outputs": [
    {
     "data": {
      "text/html": [
       "<table class=\"simpletable\">\n",
       "<caption>ARIMA Model Results</caption>\n",
       "<tr>\n",
       "  <th>Dep. Variable:</th> <td>D.Confirmed Case</td> <th>  No. Observations:  </th>    <td>119</td>   \n",
       "</tr>\n",
       "<tr>\n",
       "  <th>Model:</th>          <td>ARIMA(1, 1, 1)</td>  <th>  Log Likelihood     </th> <td>-1106.731</td>\n",
       "</tr>\n",
       "<tr>\n",
       "  <th>Method:</th>             <td>css-mle</td>     <th>  S.D. of innovations</th> <td>2635.395</td> \n",
       "</tr>\n",
       "<tr>\n",
       "  <th>Date:</th>          <td>Sun, 24 May 2020</td> <th>  AIC                </th> <td>2221.462</td> \n",
       "</tr>\n",
       "<tr>\n",
       "  <th>Time:</th>              <td>11:39:37</td>     <th>  BIC                </th> <td>2232.578</td> \n",
       "</tr>\n",
       "<tr>\n",
       "  <th>Sample:</th>           <td>01-24-2020</td>    <th>  HQIC               </th> <td>2225.976</td> \n",
       "</tr>\n",
       "<tr>\n",
       "  <th></th>                 <td>- 05-21-2020</td>   <th>                     </th>     <td> </td>    \n",
       "</tr>\n",
       "</table>\n",
       "<table class=\"simpletable\">\n",
       "<tr>\n",
       "             <td></td>               <th>coef</th>     <th>std err</th>      <th>z</th>      <th>P>|z|</th>  <th>[0.025</th>    <th>0.975]</th>  \n",
       "</tr>\n",
       "<tr>\n",
       "  <th>const</th>                  <td>    3.9232</td> <td>   52.965</td> <td>    0.074</td> <td> 0.941</td> <td>  -99.886</td> <td>  107.732</td>\n",
       "</tr>\n",
       "<tr>\n",
       "  <th>ar.L1.D.Confirmed Case</th> <td>   -0.1481</td> <td>    0.110</td> <td>   -1.351</td> <td> 0.179</td> <td>   -0.363</td> <td>    0.067</td>\n",
       "</tr>\n",
       "<tr>\n",
       "  <th>ma.L1.D.Confirmed Case</th> <td>   -0.7552</td> <td>    0.072</td> <td>  -10.472</td> <td> 0.000</td> <td>   -0.897</td> <td>   -0.614</td>\n",
       "</tr>\n",
       "</table>\n",
       "<table class=\"simpletable\">\n",
       "<caption>Roots</caption>\n",
       "<tr>\n",
       "    <td></td>   <th>            Real</th>  <th>         Imaginary</th> <th>         Modulus</th>  <th>        Frequency</th>\n",
       "</tr>\n",
       "<tr>\n",
       "  <th>AR.1</th> <td>          -6.7510</td> <td>          +0.0000j</td> <td>           6.7510</td> <td>           0.5000</td>\n",
       "</tr>\n",
       "<tr>\n",
       "  <th>MA.1</th> <td>           1.3242</td> <td>          +0.0000j</td> <td>           1.3242</td> <td>           0.0000</td>\n",
       "</tr>\n",
       "</table>"
      ],
      "text/plain": [
       "<class 'statsmodels.iolib.summary.Summary'>\n",
       "\"\"\"\n",
       "                             ARIMA Model Results                              \n",
       "==============================================================================\n",
       "Dep. Variable:       D.Confirmed Case   No. Observations:                  119\n",
       "Model:                 ARIMA(1, 1, 1)   Log Likelihood               -1106.731\n",
       "Method:                       css-mle   S.D. of innovations           2635.395\n",
       "Date:                Sun, 24 May 2020   AIC                           2221.462\n",
       "Time:                        11:39:37   BIC                           2232.578\n",
       "Sample:                    01-24-2020   HQIC                          2225.976\n",
       "                         - 05-21-2020                                         \n",
       "==========================================================================================\n",
       "                             coef    std err          z      P>|z|      [0.025      0.975]\n",
       "------------------------------------------------------------------------------------------\n",
       "const                      3.9232     52.965      0.074      0.941     -99.886     107.732\n",
       "ar.L1.D.Confirmed Case    -0.1481      0.110     -1.351      0.179      -0.363       0.067\n",
       "ma.L1.D.Confirmed Case    -0.7552      0.072    -10.472      0.000      -0.897      -0.614\n",
       "                                    Roots                                    \n",
       "=============================================================================\n",
       "                  Real          Imaginary           Modulus         Frequency\n",
       "-----------------------------------------------------------------------------\n",
       "AR.1           -6.7510           +0.0000j            6.7510            0.5000\n",
       "MA.1            1.3242           +0.0000j            1.3242            0.0000\n",
       "-----------------------------------------------------------------------------\n",
       "\"\"\""
      ]
     },
     "execution_count": 69,
     "metadata": {},
     "output_type": "execute_result"
    }
   ],
   "source": [
    "results = ARIMA(covid_france.diff()[\"2020-01-23\":].astype(float),order=(1,1,1)).fit()\n",
    "results.summary()"
   ]
  },
  {
   "cell_type": "code",
   "execution_count": 70,
   "metadata": {},
   "outputs": [
    {
     "data": {
      "image/png": "[encoded data removed]",
      "text/plain": [
       "<Figure size 432x288 with 1 Axes>"
      ]
     },
     "metadata": {
      "needs_background": "light"
     },
     "output_type": "display_data"
    }
   ],
   "source": [
    "x = results.plot_predict(\"2020-01-25\",\"2020-05-30\",dynamic=False)"
   ]
  },
  {
   "cell_type": "markdown",
   "metadata": {},
   "source": [
    "Through predicting the case number in Spain and France, we can know that there is still limitation in machine learning. A sudden increase and drop is hard to identified. \n",
    "\n",
    "If more data like daily arrival is provided and take into consideration while constructing the model. It can help to give a more reliable prediction."
   ]
  },
  {
   "cell_type": "markdown",
   "metadata": {},
   "source": [
    "# Conclusion\n",
    "In this test, ARIMA have a good performance for predicting the daily confirmed case growth.\n",
    "However, through testing for the european country, it cannot detect sudden change in the data (sudden drop in Spain, sudden rise in France).\n",
    "But it is still reliable in normal circumstances and give insight of how the number goes.\n",
    "Through the testing for Hong Kong, Spain and France, we can forsee that the disease trand is nearly come to an end in these countries.\n",
    "\n",
    "Linear regression model not perfroming well due to the lack of data other than the city mobility.\n",
    "\n",
    "With time series model like ARIMA, Government can get to know that the trand for the disease in Hong Kong and have more readiness in healthcare systems"
   ]
  }
 ],
 "metadata": {
  "author": "Ken Lee",
  "kernelspec": {
   "display_name": "Python 3",
   "language": "python",
   "name": "python3"
  },
  "language_info": {
   "codemirror_mode": {
    "name": "ipython",
    "version": 3
   },
   "file_extension": ".py",
   "mimetype": "text/x-python",
   "name": "python",
   "nbconvert_exporter": "python",
   "pygments_lexer": "ipython3",
   "version": "3.7.2"
  },
  "title": "Predicting Daily Confirmed Cases in Hong Kong"
 },
 "nbformat": 4,
 "nbformat_minor": 2
}
